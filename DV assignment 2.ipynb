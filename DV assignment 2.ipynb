{
 "cells": [
  {
   "cell_type": "code",
   "execution_count": 1,
   "id": "8d52bb71",
   "metadata": {},
   "outputs": [
    {
     "name": "stderr",
     "output_type": "stream",
     "text": [
      "WARNING:bokeh.embed.util:\n",
      "You are generating standalone HTML/JS output, but trying to use real Python\n",
      "callbacks (i.e. with on_change or on_event). This combination cannot work.\n",
      "\n",
      "Only JavaScript callbacks may be used with standalone output. For more\n",
      "information on JavaScript callbacks with Bokeh, see:\n",
      "\n",
      "    https://docs.bokeh.org/en/latest/docs/user_guide/interaction/callbacks.html\n",
      "\n",
      "Alternatively, to use real Python callbacks, a Bokeh server application may\n",
      "be used. For more information on building and running Bokeh applications, see:\n",
      "\n",
      "    https://docs.bokeh.org/en/latest/docs/user_guide/server.html\n",
      "\n"
     ]
    }
   ],
   "source": [
    "from bokeh.plotting import figure, show\n",
    "from bokeh.layouts import column, row\n",
    "from bokeh.models import Select\n",
    "from bokeh.io import curdoc\n",
    "\n",
    "# Create the plots\n",
    "plot1 = figure(plot_width=400, plot_height=300)\n",
    "plot1.circle([1, 2, 3], [4, 5, 6], size=10, color=\"blue\")\n",
    "\n",
    "plot2 = figure(plot_width=400, plot_height=300)\n",
    "plot2.line([1, 2, 3], [4, 5, 6], line_width=2, color=\"green\")\n",
    "\n",
    "# Create the widget\n",
    "select = Select(title=\"Select color\", value=\"blue\", options=[\"blue\", \"green\"])\n",
    "\n",
    "# Define the callback function\n",
    "def update_color(attr, old, new):\n",
    "    color = select.value\n",
    "    plot1.circle([1, 2, 3], [4, 5, 6], size=10, color=color)\n",
    "\n",
    "# Attach the callback to the widget\n",
    "select.on_change('value', update_color)\n",
    "\n",
    "# Create the layout\n",
    "layout = column(row(plot1, plot2), select)\n",
    "\n",
    "# Add the layout to the current document\n",
    "curdoc().add_root(layout)\n",
    "\n",
    "# Show the dashboard\n",
    "show(layout)\n"
   ]
  },
  {
   "cell_type": "code",
   "execution_count": null,
   "id": "c76eff81",
   "metadata": {},
   "outputs": [],
   "source": []
  }
 ],
 "metadata": {
  "kernelspec": {
   "display_name": "Python 3 (ipykernel)",
   "language": "python",
   "name": "python3"
  },
  "language_info": {
   "codemirror_mode": {
    "name": "ipython",
    "version": 3
   },
   "file_extension": ".py",
   "mimetype": "text/x-python",
   "name": "python",
   "nbconvert_exporter": "python",
   "pygments_lexer": "ipython3",
   "version": "3.9.12"
  }
 },
 "nbformat": 4,
 "nbformat_minor": 5
}
